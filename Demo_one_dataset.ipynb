{
 "cells": [
  {
   "cell_type": "markdown",
   "metadata": {},
   "source": [
    "This notebook contains implementation code needed to reproduce the data generation process of the framework described in the paper:"
   ]
  },
  {
   "cell_type": "markdown",
   "metadata": {},
   "source": [
    "## Towards Building a Digital Twin of Complex System using Causal Modelling"
   ]
  },
  {
   "cell_type": "markdown",
   "metadata": {},
   "source": [
    "by Luka Jakovljevic<sup>1,2</sup>, Dimitre Kostadinov<sup>1</sup>, Armen Aghasaryan<sup>1</sup> and Themis Palpanas<sup>2</sup>\n",
    "\n",
    "<sup>1</sup>*Nokia Bell Labs, France*\\\n",
    "<sup>2</sup>*University of Paris, France*"
   ]
  },
  {
   "cell_type": "markdown",
   "metadata": {},
   "source": [
    ">that is presented on **The 10th International Conference on Complex Networks and their Applications**\\\n",
    "*in Madrid, Spain (November 30 - December 2, 2021)* [\"complexnetworks.org\"](https://complexnetworks.org/)\n",
    "\n",
    ">and will soon appear in **Volume 1015 of Springer - Studies in Computational Intelligence Series**"
   ]
  },
  {
   "cell_type": "markdown",
   "metadata": {},
   "source": [
    "code published under:<br>\n",
    "BSD 3-Clause License<br>\n",
    "(for more info read [\"LICENSE file\"](https://github.com/nokia/causal-digital-twin/blob/main/LICENSE))\n",
    "\n",
    "Copyright (c) 2021, Nokia<br>\n",
    "All rights reserved."
   ]
  },
  {
   "cell_type": "markdown",
   "metadata": {},
   "source": [
    "### <br><br><br>Framework for creation  of  a  Digital  twin:"
   ]
  },
  {
   "cell_type": "markdown",
   "metadata": {},
   "source": [
    "Modelling  behaviour  of  observable  system states, that enables mimicking:\n",
    "* the appearance;\n",
    "* propagation;\n",
    "* and persistence of **faults** in time:"
   ]
  },
  {
   "cell_type": "markdown",
   "metadata": {},
   "source": [
    "<img src = 'causal_digital_twin.JPG' />"
   ]
  },
  {
   "cell_type": "markdown",
   "metadata": {},
   "source": [
    "#### _This notebook showcases how the **Causal Model** (input for a Digital Twin) is built given known Causal Structure and noisy-OR parameters, as defined in the paper._"
   ]
  },
  {
   "cell_type": "markdown",
   "metadata": {},
   "source": [
    "> **Content of this notebook:**\n",
    "1. Loading `causal_digital_twin` python module;<br>\n",
    "2. Defining Causal Structure (DAG);<br>\n",
    "3. Parametrizing a DAG (defining SCM);<br>\n",
    "4. Building a Causal Model and Generating Synthetic Alerts."
   ]
  },
  {
   "cell_type": "markdown",
   "metadata": {},
   "source": [
    "# <br><br><br>1. Loading `causal_digital_twin` python module:"
   ]
  },
  {
   "cell_type": "code",
   "execution_count": 1,
   "metadata": {},
   "outputs": [],
   "source": [
    "# import all functions from module\n",
    "from causal_digital_twin import *"
   ]
  },
  {
   "cell_type": "markdown",
   "metadata": {},
   "source": [
    "# <br><br><br>2. Defining Causal Structure (DAG):"
   ]
  },
  {
   "cell_type": "markdown",
   "metadata": {},
   "source": [
    "#### defining input parameters for a graph:"
   ]
  },
  {
   "cell_type": "code",
   "execution_count": 2,
   "metadata": {},
   "outputs": [],
   "source": [
    "graph_size = 5 # graph size\n",
    "d = 3 # target edge degree\n",
    "prob = d / (graph_size - 1) # probability to assign edge\n",
    "length = 1000 # length of time series (number of samples)"
   ]
  },
  {
   "cell_type": "markdown",
   "metadata": {},
   "source": [
    "#### generating a random (ER) DAG of size n and edge probability p with function `generate_DAG`:"
   ]
  },
  {
   "cell_type": "code",
   "execution_count": 3,
   "metadata": {},
   "outputs": [],
   "source": [
    "# generate DAG\n",
    "DAG = generate_DAG(graph_size, prob)\n",
    "\n",
    "# function above generates a random (ER) DAG of size n and edge probability p "
   ]
  },
  {
   "cell_type": "markdown",
   "metadata": {},
   "source": [
    "#### veryfing that generated graph is indeed directed and acyclic:"
   ]
  },
  {
   "cell_type": "code",
   "execution_count": 4,
   "metadata": {},
   "outputs": [
    {
     "name": "stdout",
     "output_type": "stream",
     "text": [
      "Successful: Constructed graph is a DAG -> Continue to the following cell\n"
     ]
    }
   ],
   "source": [
    "# get undirected version in order so we can perform function nx.is_connected() below\n",
    "undirected = DAG.to_undirected(reciprocal=False, as_view=False)\n",
    "# check if we obtained a DAG                               \n",
    "if is_directed_acyclic_graph(DAG)==True and nx.is_connected(undirected)==True and len(DAG)==graph_size:\n",
    "    print(\"Successful: Constructed graph is a DAG -> Continue to the following cell\")\n",
    "else:\n",
    "    # since graph generation process is random, sometimes the graph is not a DAG\n",
    "    print(\"Error: No DAG -> Run previous cell again\")   "
   ]
  },
  {
   "cell_type": "markdown",
   "metadata": {},
   "source": [
    "#### visualizing future causal relations between alerts:"
   ]
  },
  {
   "cell_type": "code",
   "execution_count": 5,
   "metadata": {},
   "outputs": [
    {
     "data": {
      "image/png": "[encoded data removed]",
      "text/plain": [
       "<Figure size 432x288 with 1 Axes>"
      ]
     },
     "metadata": {},
     "output_type": "display_data"
    }
   ],
   "source": [
    "# visualize DAG:\n",
    "plot_DAG(DAG)"
   ]
  },
  {
   "cell_type": "markdown",
   "metadata": {},
   "source": [
    "# <br><br><br>3. Parametrizing a DAG (defining SCM):"
   ]
  },
  {
   "cell_type": "markdown",
   "metadata": {},
   "source": [
    "function `parametrize_DAG` below parametrizes DAG with SCM probabilities:\n",
    "* `lam:` probability that fault appears\n",
    "* `v_self:` probability that fault persists on a node\n",
    "* `v_prop:` probability that fault propagates to child node\n",
    "* `lag:` time (samples) needed for a fault to propagate from parent to child\n",
    "* `step:` probability resolution"
   ]
  },
  {
   "cell_type": "code",
   "execution_count": 6,
   "metadata": {},
   "outputs": [
    {
     "data": {
      "text/plain": [
       "<networkx.classes.digraph.DiGraph at 0x1c462130370>"
      ]
     },
     "execution_count": 6,
     "metadata": {},
     "output_type": "execute_result"
    }
   ],
   "source": [
    "# parametrize DAG with desired probabilities (defining range of probabilities)\n",
    "parametrize_DAG (DAG, lam = [0.005, 0.05], v_self = [0, 0.05], v_prop = [0.95, 1], lag = 3, step = 0.0001)"
   ]
  },
  {
   "cell_type": "markdown",
   "metadata": {},
   "source": [
    "# <br><br><br>4. Building a Causal Model and Generating Synthetic Alerts:"
   ]
  },
  {
   "cell_type": "markdown",
   "metadata": {},
   "source": [
    "#### function `time_series` below instantiates Causal Model (SCM) and synthesizes time series of desired length:"
   ]
  },
  {
   "cell_type": "code",
   "execution_count": 7,
   "metadata": {},
   "outputs": [
    {
     "name": "stdout",
     "output_type": "stream",
     "text": [
      "Simulation for node number 0 is successful\n",
      "Simulation for node number 1 is successful\n",
      "Simulation for node number 2 is successful\n",
      "Simulation for node number 3 is successful\n",
      "Simulation for node number 4 is successful\n"
     ]
    }
   ],
   "source": [
    "# create dataset and extract ground truth list\n",
    "dataset = time_series(DAG, 1000)\n",
    "dataset = dataset.astype('int32')"
   ]
  },
  {
   "cell_type": "markdown",
   "metadata": {},
   "source": [
    "#### Verifying that none of the alerts is always active:"
   ]
  },
  {
   "cell_type": "code",
   "execution_count": 8,
   "metadata": {},
   "outputs": [
    {
     "name": "stdout",
     "output_type": "stream",
     "text": [
      "Simulation successful -> Continue to the following cell\n"
     ]
    }
   ],
   "source": [
    "durations = dataset.sum(axis=0)\n",
    "# if alert is almost always active (>98%) we run the simulation again\n",
    "durations_thresholded = [1 if i>=0.98*length else 0 for i in durations] \n",
    "if sum(durations_thresholded) < 1:\n",
    "    print(\"Simulation successful -> Continue to the following cell\")        \n",
    "\n",
    "else:\n",
    "    print(\"Error: There is at least one alert which is always active -> Run previous cell again\")"
   ]
  },
  {
   "cell_type": "markdown",
   "metadata": {},
   "source": [
    "#### Plotting synthetic alerts:"
   ]
  },
  {
   "cell_type": "code",
   "execution_count": 9,
   "metadata": {},
   "outputs": [
    {
     "data": {
      "image/png": "[encoded data removed]",
      "text/plain": [
       "<Figure size 1152x360 with 5 Axes>"
      ]
     },
     "metadata": {
      "needs_background": "light"
     },
     "output_type": "display_data"
    }
   ],
   "source": [
    "dataset[250:400].plot(subplots=True, drawstyle=\"steps\", figsize=(16, 5));"
   ]
  },
  {
   "cell_type": "markdown",
   "metadata": {},
   "source": [
    "## Saving dataset if needed"
   ]
  },
  {
   "cell_type": "code",
   "execution_count": null,
   "metadata": {},
   "outputs": [],
   "source": [
    "# save dataset\n",
    "dataset.to_csv('dataset-demo.csv', header=True, index = False)\n",
    "\n",
    "# save DAG parameters - ground truth\n",
    "nx.write_gexf(DAG, 'dataset-demo-groundtruth.gexf')"
   ]
  }
 ],
 "metadata": {
  "kernelspec": {
   "display_name": "Python 3",
   "language": "python",
   "name": "python3"
  },
  "language_info": {
   "codemirror_mode": {
    "name": "ipython",
    "version": 3
   },
   "file_extension": ".py",
   "mimetype": "text/x-python",
   "name": "python",
   "nbconvert_exporter": "python",
   "pygments_lexer": "ipython3",
   "version": "3.8.5"
  }
 },
 "nbformat": 4,
 "nbformat_minor": 4
}
